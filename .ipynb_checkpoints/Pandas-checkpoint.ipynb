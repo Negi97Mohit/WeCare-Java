{
 "cells": [
  {
   "cell_type": "markdown",
   "id": "violent-million",
   "metadata": {},
   "source": [
    "### **1.Data series and Dataframes**"
   ]
  },
  {
   "cell_type": "code",
   "execution_count": 1,
   "id": "blind-therapist",
   "metadata": {},
   "outputs": [],
   "source": [
    "import pandas as pd\n",
    "import numpy as np\n",
    "import matplotlib.pyplot as plt"
   ]
  },
  {
   "cell_type": "code",
   "execution_count": 2,
   "id": "synthetic-gentleman",
   "metadata": {},
   "outputs": [
    {
     "name": "stdout",
     "output_type": "stream",
     "text": [
      "The mean is  4.8182\n",
      "The standard deviation is  2.5226\n"
     ]
    }
   ],
   "source": [
    "# 1.Calculate the mean and standard deviation of the Series and print the outputs to 4 decimal places in floating point.\n",
    "x=np.array([1,2,3,4,5,6,7,8,9,5,3])\n",
    "y=pd.Series(data=x)\n",
    "print(\"The mean is \",y.mean().round(4))\n",
    "print(\"The standard deviation is \",y.std().round(4))"
   ]
  },
  {
   "cell_type": "code",
   "execution_count": 3,
   "id": "metric-sandwich",
   "metadata": {},
   "outputs": [
    {
     "name": "stdout",
     "output_type": "stream",
     "text": [
      "Series 1= \n",
      " 0     2\n",
      "1     4\n",
      "2     6\n",
      "3     8\n",
      "4    10\n",
      "dtype: int32\n",
      "---------------\n",
      "Series 2= \n",
      " 0    1\n",
      "1    3\n",
      "2    5\n",
      "3    7\n",
      "4    9\n",
      "dtype: int32\n",
      "---------------\n",
      "Comparing two series=\n",
      "    self  other\n",
      "0     2      1\n",
      "1     4      3\n",
      "2     6      5\n",
      "3     8      7\n",
      "4    10      9\n",
      "---------------\n",
      "Lower series comparison\n",
      "\n",
      "0    False\n",
      "1    False\n",
      "2    False\n",
      "3    False\n",
      "4    False\n",
      "dtype: bool \n",
      "\n",
      "Greater series comparison\n",
      "\n",
      "0    True\n",
      "1    True\n",
      "2    True\n",
      "3    True\n",
      "4    True\n",
      "dtype: bool \n",
      "\n"
     ]
    }
   ],
   "source": [
    "# 2.Expected outputs are to print two series comparing with \"equal\", \"greater than\", and \"less than.\n",
    "x1=pd.Series(np.array( [2, 4, 6, 8, 10]))\n",
    "x2=pd.Series(np.array( [1, 3, 5, 7, 9]))\n",
    "print(\"Series 1= \\n\",x1)\n",
    "print(\"---------------\")\n",
    "print(\"Series 2= \\n\",x2)\n",
    "print(\"---------------\")\n",
    "print(\"Comparing two series=\\n\",x1.compare(x2,keep_shape=True))\n",
    "print(\"---------------\")\n",
    "great_com=x1.ge(x2)\n",
    "lower_com=x1.le(x2)\n",
    "print(\"Lower series comparison\\n\")\n",
    "print(lower_com,\"\\n\")\n",
    "print(\"Greater series comparison\\n\")\n",
    "print(great_com,\"\\n\")"
   ]
  },
  {
   "cell_type": "code",
   "execution_count": 4,
   "id": "labeled-robin",
   "metadata": {},
   "outputs": [
    {
     "name": "stdout",
     "output_type": "stream",
     "text": [
      "A1 data series=\n",
      " 0    10\n",
      "1    20\n",
      "2    30\n",
      "3    40\n",
      "4    50\n",
      "dtype: int32\n",
      "A2 data series=\n",
      " a    100\n",
      "b    200\n",
      "c    300\n",
      "d    400\n",
      "e    800\n",
      "dtype: int64\n"
     ]
    }
   ],
   "source": [
    "# 3.Convert the NumPy array and the dictionary to Pandas Series, respectively. \n",
    "a1=pd.Series(np.array([10, 20, 30, 40, 50]))\n",
    "a2=pd.Series( {'a': 100, 'b': 200, 'c':300, 'd':400, 'e':800})\n",
    "print(\"A1 data series=\\n\",a1)\n",
    "print(\"A2 data series=\\n\",a2)"
   ]
  },
  {
   "cell_type": "code",
   "execution_count": 5,
   "id": "endless-simpson",
   "metadata": {},
   "outputs": [
    {
     "name": "stdout",
     "output_type": "stream",
     "text": [
      "   col1  col2  col3\n",
      "0     1     4     7\n",
      "1     2     5     5\n",
      "2     3     6     8\n",
      "3     4     9    12\n",
      "4     7     5     1\n",
      "5    11     0    11\n",
      "The column as series is: \n",
      " 0     1\n",
      "1     2\n",
      "2     3\n",
      "3     4\n",
      "4     7\n",
      "5    11\n",
      "Name: col1, dtype: int32\n"
     ]
    }
   ],
   "source": [
    "# 4.Construct a DataFrame as the sample data here and output. Use \"iloc\" to convert the first column of a DataFrame as a Series.\n",
    "data=pd.DataFrame(np.array([[1,4,7],[2,5,5],[3,6,8],[4,9,12],[7,5,1],[11,0,11]]),columns=['col1','col2','col3'])\n",
    "print(data)\n",
    "master=data.iloc[0:6,0:1]\n",
    "master1=master.squeeze()\n",
    "print(\"The column as series is: \\n\",master1)"
   ]
  },
  {
   "cell_type": "code",
   "execution_count": 6,
   "id": "natural-cement",
   "metadata": {},
   "outputs": [
    {
     "name": "stdout",
     "output_type": "stream",
     "text": [
      "The Dataframe is \n",
      "    col1  col2  col3\n",
      "0     1     4     7\n",
      "1     2     5     5\n",
      "2     3     6     8\n",
      "3     4     9    12\n",
      "4     7     5     1\n",
      "5    11     0    11\n",
      "The column numbers are = 3\n",
      "The slected columns are = \n",
      "    col1  col2\n",
      "0     1     4\n",
      "1     2     5\n",
      "2     3     6\n",
      "3     4     9\n",
      "4     7     5\n",
      "5    11     0\n",
      "Remove first three rows = \n",
      "    col1  col2  col3\n",
      "3     4     9    12\n",
      "4     7     5     1\n",
      "5    11     0    11\n",
      "Remove last three rows = \n",
      "    col1  col2  col3\n",
      "0     1     4     7\n",
      "1     2     5     5\n",
      "2     3     6     8\n"
     ]
    }
   ],
   "source": [
    "# 5. Implement the following tasks using indexers loc and/or iloc\n",
    "print(\"The Dataframe is \\n\",data)\n",
    "print(\"The column numbers are =\",len(data.columns))\n",
    "print(\"The slected columns are = \\n\",data.iloc[0:6,0:2])\n",
    "data1=data.drop([0,1,2])\n",
    "data2=data.drop([3,4,5])\n",
    "print(\"Remove first three rows = \\n\",data1)\n",
    "print(\"Remove last three rows = \\n\",data2)"
   ]
  },
  {
   "cell_type": "code",
   "execution_count": 52,
   "id": "labeled-sugar",
   "metadata": {},
   "outputs": [
    {
     "data": {
      "text/html": [
       "<div>\n",
       "<style scoped>\n",
       "    .dataframe tbody tr th:only-of-type {\n",
       "        vertical-align: middle;\n",
       "    }\n",
       "\n",
       "    .dataframe tbody tr th {\n",
       "        vertical-align: top;\n",
       "    }\n",
       "\n",
       "    .dataframe thead th {\n",
       "        text-align: right;\n",
       "    }\n",
       "</style>\n",
       "<table border=\"1\" class=\"dataframe\">\n",
       "  <thead>\n",
       "    <tr style=\"text-align: right;\">\n",
       "      <th></th>\n",
       "      <th></th>\n",
       "      <th>Bob</th>\n",
       "      <th>Tom</th>\n",
       "    </tr>\n",
       "    <tr>\n",
       "      <th>1st</th>\n",
       "      <th>2nd</th>\n",
       "      <th></th>\n",
       "      <th></th>\n",
       "    </tr>\n",
       "  </thead>\n",
       "  <tbody>\n",
       "    <tr>\n",
       "      <th rowspan=\"2\" valign=\"top\">Fiction</th>\n",
       "      <th>One</th>\n",
       "      <td>30</td>\n",
       "      <td>39</td>\n",
       "    </tr>\n",
       "    <tr>\n",
       "      <th>Two</th>\n",
       "      <td>54</td>\n",
       "      <td>48</td>\n",
       "    </tr>\n",
       "    <tr>\n",
       "      <th rowspan=\"2\" valign=\"top\">Non-fiction</th>\n",
       "      <th>One</th>\n",
       "      <td>24</td>\n",
       "      <td>51</td>\n",
       "    </tr>\n",
       "    <tr>\n",
       "      <th>Two</th>\n",
       "      <td>68</td>\n",
       "      <td>70</td>\n",
       "    </tr>\n",
       "    <tr>\n",
       "      <th rowspan=\"2\" valign=\"top\">Sci-fi</th>\n",
       "      <th>One</th>\n",
       "      <td>11</td>\n",
       "      <td>41</td>\n",
       "    </tr>\n",
       "    <tr>\n",
       "      <th>Two</th>\n",
       "      <td>29</td>\n",
       "      <td>67</td>\n",
       "    </tr>\n",
       "    <tr>\n",
       "      <th rowspan=\"2\" valign=\"top\">Chapter</th>\n",
       "      <th>One</th>\n",
       "      <td>32</td>\n",
       "      <td>16</td>\n",
       "    </tr>\n",
       "    <tr>\n",
       "      <th>Two</th>\n",
       "      <td>64</td>\n",
       "      <td>66</td>\n",
       "    </tr>\n",
       "  </tbody>\n",
       "</table>\n",
       "</div>"
      ],
      "text/plain": [
       "                 Bob  Tom\n",
       "1st         2nd          \n",
       "Fiction     One   30   39\n",
       "            Two   54   48\n",
       "Non-fiction One   24   51\n",
       "            Two   68   70\n",
       "Sci-fi      One   11   41\n",
       "            Two   29   67\n",
       "Chapter     One   32   16\n",
       "            Two   64   66"
      ]
     },
     "execution_count": 52,
     "metadata": {},
     "output_type": "execute_result"
    }
   ],
   "source": [
    "# 6.Create a DataFrame with multiple indices, the result should be the following: here, \"random\" means any integer random number for books.\n",
    "data={\"1st\":[\"Fiction\",\"Fiction\",\"Non-fiction\",\"Non-fiction\",\"Sci-fi\",\"Sci-fi\",\"Chapter\",\"Chapter\"],\"2nd\":[\"One\",\"Two\",\"One\",\"Two\",\"One\",\"Two\",\"One\",\"Two\"],\"Bob\":[np.random.randint(0,100),np.random.randint(0,100),np.random.randint(0,100),np.random.randint(0,100),np.random.randint(0,100),np.random.randint(0,100),np.random.randint(0,100),np.random.randint(0,100)],\"Tom\":[np.random.randint(0,100),np.random.randint(0,100),np.random.randint(0,100),np.random.randint(0,100),np.random.randint(0,100),np.random.randint(0,100),np.random.randint(0,100),np.random.randint(0,100)]}\n",
    "data=pd.DataFrame(data)\n",
    "data.set_index(['1st','2nd'],inplace=True)\n",
    "data"
   ]
  },
  {
   "cell_type": "code",
   "execution_count": 8,
   "id": "swiss-seller",
   "metadata": {},
   "outputs": [
    {
     "name": "stdout",
     "output_type": "stream",
     "text": [
      "The data set is \n",
      "    Attempts       Name Qualify  Score\n",
      "0         1  Anastasia     yes   12.5\n",
      "1         3       Dima      no    9.0\n",
      "2         2  Katherine     yes   16.5\n",
      "3         3      James      no    NaN\n",
      "4         2      Emily      no    9.0\n",
      "5         3    Michael     yes   20.0\n",
      "6         1    Matthew     yes   14.5\n",
      "7         1      Laura      no    NaN\n",
      "8         2      Kevin      no    8.0\n",
      "9         1      Jonas     yes   19.0\n",
      "The new data set is \n",
      "         Name  Score  Attempts Qualify\n",
      "0  Anastasia   12.5         1     yes\n",
      "1       Dima    9.0         3      no\n",
      "2  Katherine   16.5         2     yes\n",
      "3      James    0.0         3      no\n",
      "4      Emily    9.0         2      no\n",
      "5    Michael   20.0         3     yes\n",
      "6    Matthew   14.5         1     yes\n",
      "7      Laura    0.0         1      no\n",
      "8      Kevin    8.0         2      no\n",
      "9      Jonas   19.0         1     yes\n"
     ]
    }
   ],
   "source": [
    "# 7.Write a Pandas program to replace all the NaN values with Zero's in a column of a DataFrame. \n",
    "data={\"Attempts\":[1,3,2,3,2,3,1,1,2,1], \"Name\":[\"Anastasia\",\"Dima\",\"Katherine\",\"James\",\"Emily\",\"Michael\",\"Matthew\",\"Laura\",\"Kevin\",\"Jonas\"],\"Qualify\":[\"yes\",\"no\",\"yes\",\"no\",\"no\",\"yes\",\"yes\",\"no\",\"no\",\"yes\"],\"Score\":[12.5,9.0,16.5,np.nan,9.0,20.0,14.5,np.nan,8.0,19.0]}\n",
    "master=pd.DataFrame(data)\n",
    "print(\"The data set is \\n\",master)\n",
    "master=master.fillna(0)\n",
    "master=master[[\"Name\",\"Score\",\"Attempts\",\"Qualify\"]]\n",
    "print(\"The new data set is \\n\",master)"
   ]
  },
  {
   "cell_type": "code",
   "execution_count": 9,
   "id": "protecting-johns",
   "metadata": {},
   "outputs": [
    {
     "data": {
      "text/plain": [
       "0       100\n",
       "1       200\n",
       "2    python\n",
       "3    300.12\n",
       "4       400\n",
       "0       500\n",
       "1       php\n",
       "dtype: object"
      ]
     },
     "execution_count": 9,
     "metadata": {},
     "output_type": "execute_result"
    }
   ],
   "source": [
    "# 8.Sort the given Series; add some data ['500', 'php'] to this existing Series\n",
    "data=pd.Series(np.array([100,200,\"python\",300.12,400]))\n",
    "data.append(pd.Series(['500','php']))"
   ]
  },
  {
   "cell_type": "code",
   "execution_count": 10,
   "id": "worse-substitute",
   "metadata": {},
   "outputs": [
    {
     "data": {
      "text/html": [
       "<div>\n",
       "<style scoped>\n",
       "    .dataframe tbody tr th:only-of-type {\n",
       "        vertical-align: middle;\n",
       "    }\n",
       "\n",
       "    .dataframe tbody tr th {\n",
       "        vertical-align: top;\n",
       "    }\n",
       "\n",
       "    .dataframe thead th {\n",
       "        text-align: right;\n",
       "    }\n",
       "</style>\n",
       "<table border=\"1\" class=\"dataframe\">\n",
       "  <thead>\n",
       "    <tr style=\"text-align: right;\">\n",
       "      <th></th>\n",
       "      <th>adult</th>\n",
       "      <th>belongs_to_collection</th>\n",
       "      <th>budget</th>\n",
       "      <th>genres</th>\n",
       "      <th>homepage</th>\n",
       "      <th>id</th>\n",
       "      <th>imdb_id</th>\n",
       "      <th>original_language</th>\n",
       "      <th>original_title</th>\n",
       "      <th>overview</th>\n",
       "      <th>...</th>\n",
       "      <th>release_date</th>\n",
       "      <th>revenue</th>\n",
       "      <th>runtime</th>\n",
       "      <th>spoken_languages</th>\n",
       "      <th>status</th>\n",
       "      <th>tagline</th>\n",
       "      <th>title</th>\n",
       "      <th>video</th>\n",
       "      <th>vote_average</th>\n",
       "      <th>vote_count</th>\n",
       "    </tr>\n",
       "  </thead>\n",
       "  <tbody>\n",
       "    <tr>\n",
       "      <th>0</th>\n",
       "      <td>False</td>\n",
       "      <td>{'id': 10194, 'name': 'Toy Story Collection', ...</td>\n",
       "      <td>30000000</td>\n",
       "      <td>[{'id': 16, 'name': 'Animation'}, {'id': 35, '...</td>\n",
       "      <td>http://toystory.disney.com/toy-story</td>\n",
       "      <td>862</td>\n",
       "      <td>tt0114709</td>\n",
       "      <td>en</td>\n",
       "      <td>Toy Story</td>\n",
       "      <td>Led by Woody, Andy's toys live happily in his ...</td>\n",
       "      <td>...</td>\n",
       "      <td>1995-10-30</td>\n",
       "      <td>373554033</td>\n",
       "      <td>81.0</td>\n",
       "      <td>[{'iso_639_1': 'en', 'name': 'English'}]</td>\n",
       "      <td>Released</td>\n",
       "      <td>NaN</td>\n",
       "      <td>Toy Story</td>\n",
       "      <td>False</td>\n",
       "      <td>7.7</td>\n",
       "      <td>5415</td>\n",
       "    </tr>\n",
       "    <tr>\n",
       "      <th>1</th>\n",
       "      <td>False</td>\n",
       "      <td>NaN</td>\n",
       "      <td>65000000</td>\n",
       "      <td>[{'id': 12, 'name': 'Adventure'}, {'id': 14, '...</td>\n",
       "      <td>NaN</td>\n",
       "      <td>8844</td>\n",
       "      <td>tt0113497</td>\n",
       "      <td>en</td>\n",
       "      <td>Jumanji</td>\n",
       "      <td>When siblings Judy and Peter discover an encha...</td>\n",
       "      <td>...</td>\n",
       "      <td>1995-12-15</td>\n",
       "      <td>262797249</td>\n",
       "      <td>104.0</td>\n",
       "      <td>[{'iso_639_1': 'en', 'name': 'English'}, {'iso...</td>\n",
       "      <td>Released</td>\n",
       "      <td>Roll the dice and unleash the excitement!</td>\n",
       "      <td>Jumanji</td>\n",
       "      <td>False</td>\n",
       "      <td>6.9</td>\n",
       "      <td>2413</td>\n",
       "    </tr>\n",
       "    <tr>\n",
       "      <th>2</th>\n",
       "      <td>False</td>\n",
       "      <td>{'id': 119050, 'name': 'Grumpy Old Men Collect...</td>\n",
       "      <td>0</td>\n",
       "      <td>[{'id': 10749, 'name': 'Romance'}, {'id': 35, ...</td>\n",
       "      <td>NaN</td>\n",
       "      <td>15602</td>\n",
       "      <td>tt0113228</td>\n",
       "      <td>en</td>\n",
       "      <td>Grumpier Old Men</td>\n",
       "      <td>A family wedding reignites the ancient feud be...</td>\n",
       "      <td>...</td>\n",
       "      <td>1995-12-22</td>\n",
       "      <td>0</td>\n",
       "      <td>101.0</td>\n",
       "      <td>[{'iso_639_1': 'en', 'name': 'English'}]</td>\n",
       "      <td>Released</td>\n",
       "      <td>Still Yelling. Still Fighting. Still Ready for...</td>\n",
       "      <td>Grumpier Old Men</td>\n",
       "      <td>False</td>\n",
       "      <td>6.5</td>\n",
       "      <td>92</td>\n",
       "    </tr>\n",
       "    <tr>\n",
       "      <th>3</th>\n",
       "      <td>False</td>\n",
       "      <td>NaN</td>\n",
       "      <td>16000000</td>\n",
       "      <td>[{'id': 35, 'name': 'Comedy'}, {'id': 18, 'nam...</td>\n",
       "      <td>NaN</td>\n",
       "      <td>31357</td>\n",
       "      <td>tt0114885</td>\n",
       "      <td>en</td>\n",
       "      <td>Waiting to Exhale</td>\n",
       "      <td>Cheated on, mistreated and stepped on, the wom...</td>\n",
       "      <td>...</td>\n",
       "      <td>1995-12-22</td>\n",
       "      <td>81452156</td>\n",
       "      <td>127.0</td>\n",
       "      <td>[{'iso_639_1': 'en', 'name': 'English'}]</td>\n",
       "      <td>Released</td>\n",
       "      <td>Friends are the people who let you be yourself...</td>\n",
       "      <td>Waiting to Exhale</td>\n",
       "      <td>False</td>\n",
       "      <td>6.1</td>\n",
       "      <td>34</td>\n",
       "    </tr>\n",
       "    <tr>\n",
       "      <th>4</th>\n",
       "      <td>False</td>\n",
       "      <td>{'id': 96871, 'name': 'Father of the Bride Col...</td>\n",
       "      <td>0</td>\n",
       "      <td>[{'id': 35, 'name': 'Comedy'}]</td>\n",
       "      <td>NaN</td>\n",
       "      <td>11862</td>\n",
       "      <td>tt0113041</td>\n",
       "      <td>en</td>\n",
       "      <td>Father of the Bride Part II</td>\n",
       "      <td>Just when George Banks has recovered from his ...</td>\n",
       "      <td>...</td>\n",
       "      <td>1995-02-10</td>\n",
       "      <td>76578911</td>\n",
       "      <td>106.0</td>\n",
       "      <td>[{'iso_639_1': 'en', 'name': 'English'}]</td>\n",
       "      <td>Released</td>\n",
       "      <td>Just When His World Is Back To Normal... He's ...</td>\n",
       "      <td>Father of the Bride Part II</td>\n",
       "      <td>False</td>\n",
       "      <td>5.7</td>\n",
       "      <td>173</td>\n",
       "    </tr>\n",
       "  </tbody>\n",
       "</table>\n",
       "<p>5 rows × 24 columns</p>\n",
       "</div>"
      ],
      "text/plain": [
       "   adult                              belongs_to_collection    budget  \\\n",
       "0  False  {'id': 10194, 'name': 'Toy Story Collection', ...  30000000   \n",
       "1  False                                                NaN  65000000   \n",
       "2  False  {'id': 119050, 'name': 'Grumpy Old Men Collect...         0   \n",
       "3  False                                                NaN  16000000   \n",
       "4  False  {'id': 96871, 'name': 'Father of the Bride Col...         0   \n",
       "\n",
       "                                              genres  \\\n",
       "0  [{'id': 16, 'name': 'Animation'}, {'id': 35, '...   \n",
       "1  [{'id': 12, 'name': 'Adventure'}, {'id': 14, '...   \n",
       "2  [{'id': 10749, 'name': 'Romance'}, {'id': 35, ...   \n",
       "3  [{'id': 35, 'name': 'Comedy'}, {'id': 18, 'nam...   \n",
       "4                     [{'id': 35, 'name': 'Comedy'}]   \n",
       "\n",
       "                               homepage     id    imdb_id original_language  \\\n",
       "0  http://toystory.disney.com/toy-story    862  tt0114709                en   \n",
       "1                                   NaN   8844  tt0113497                en   \n",
       "2                                   NaN  15602  tt0113228                en   \n",
       "3                                   NaN  31357  tt0114885                en   \n",
       "4                                   NaN  11862  tt0113041                en   \n",
       "\n",
       "                original_title  \\\n",
       "0                    Toy Story   \n",
       "1                      Jumanji   \n",
       "2             Grumpier Old Men   \n",
       "3            Waiting to Exhale   \n",
       "4  Father of the Bride Part II   \n",
       "\n",
       "                                            overview  ...  release_date  \\\n",
       "0  Led by Woody, Andy's toys live happily in his ...  ...    1995-10-30   \n",
       "1  When siblings Judy and Peter discover an encha...  ...    1995-12-15   \n",
       "2  A family wedding reignites the ancient feud be...  ...    1995-12-22   \n",
       "3  Cheated on, mistreated and stepped on, the wom...  ...    1995-12-22   \n",
       "4  Just when George Banks has recovered from his ...  ...    1995-02-10   \n",
       "\n",
       "     revenue runtime                                   spoken_languages  \\\n",
       "0  373554033    81.0           [{'iso_639_1': 'en', 'name': 'English'}]   \n",
       "1  262797249   104.0  [{'iso_639_1': 'en', 'name': 'English'}, {'iso...   \n",
       "2          0   101.0           [{'iso_639_1': 'en', 'name': 'English'}]   \n",
       "3   81452156   127.0           [{'iso_639_1': 'en', 'name': 'English'}]   \n",
       "4   76578911   106.0           [{'iso_639_1': 'en', 'name': 'English'}]   \n",
       "\n",
       "     status                                            tagline  \\\n",
       "0  Released                                                NaN   \n",
       "1  Released          Roll the dice and unleash the excitement!   \n",
       "2  Released  Still Yelling. Still Fighting. Still Ready for...   \n",
       "3  Released  Friends are the people who let you be yourself...   \n",
       "4  Released  Just When His World Is Back To Normal... He's ...   \n",
       "\n",
       "                         title  video vote_average vote_count  \n",
       "0                    Toy Story  False          7.7       5415  \n",
       "1                      Jumanji  False          6.9       2413  \n",
       "2             Grumpier Old Men  False          6.5         92  \n",
       "3            Waiting to Exhale  False          6.1         34  \n",
       "4  Father of the Bride Part II  False          5.7        173  \n",
       "\n",
       "[5 rows x 24 columns]"
      ]
     },
     "execution_count": 10,
     "metadata": {},
     "output_type": "execute_result"
    }
   ],
   "source": [
    "# 9.Implement the following tasks: \n",
    "#read data from movies.csv file to Pandas.\n",
    "master=pd.read_csv(r\"C:\\Users\\negis\\Downloads\\movies.csv\")\n",
    "master.head(5)"
   ]
  },
  {
   "cell_type": "code",
   "execution_count": 11,
   "id": "removable-replication",
   "metadata": {},
   "outputs": [
    {
     "name": "stdout",
     "output_type": "stream",
     "text": [
      "<class 'pandas.core.frame.DataFrame'>\n",
      "RangeIndex: 50 entries, 0 to 49\n",
      "Data columns (total 24 columns):\n",
      " #   Column                 Non-Null Count  Dtype  \n",
      "---  ------                 --------------  -----  \n",
      " 0   adult                  50 non-null     bool   \n",
      " 1   belongs_to_collection  10 non-null     object \n",
      " 2   budget                 50 non-null     int64  \n",
      " 3   genres                 50 non-null     object \n",
      " 4   homepage               5 non-null      object \n",
      " 5   id                     50 non-null     int64  \n",
      " 6   imdb_id                50 non-null     object \n",
      " 7   original_language      50 non-null     object \n",
      " 8   original_title         50 non-null     object \n",
      " 9   overview               49 non-null     object \n",
      " 10  popularity             50 non-null     float64\n",
      " 11  poster_path            50 non-null     object \n",
      " 12  production_companies   50 non-null     object \n",
      " 13  production_countries   50 non-null     object \n",
      " 14  release_date           50 non-null     object \n",
      " 15  revenue                50 non-null     int64  \n",
      " 16  runtime                50 non-null     float64\n",
      " 17  spoken_languages       50 non-null     object \n",
      " 18  status                 50 non-null     object \n",
      " 19  tagline                41 non-null     object \n",
      " 20  title                  50 non-null     object \n",
      " 21  video                  50 non-null     bool   \n",
      " 22  vote_average           50 non-null     float64\n",
      " 23  vote_count             50 non-null     int64  \n",
      "dtypes: bool(2), float64(3), int64(4), object(15)\n",
      "memory usage: 8.8+ KB\n"
     ]
    }
   ],
   "source": [
    "#get the information of the DataFrame (movies.csv file) including data types and memory usage.\n",
    "master.info()"
   ]
  },
  {
   "cell_type": "code",
   "execution_count": 12,
   "id": "eligible-progressive",
   "metadata": {},
   "outputs": [
    {
     "name": "stdout",
     "output_type": "stream",
     "text": [
      "Rows: 50\n",
      "Columns: 24\n"
     ]
    }
   ],
   "source": [
    "#count the number of rows and columns of the DataFrame.\n",
    "r,c=master.shape\n",
    "print(\"Rows:\",r)\n",
    "print(\"Columns:\",c)"
   ]
  },
  {
   "cell_type": "code",
   "execution_count": 13,
   "id": "bibliographic-spokesman",
   "metadata": {},
   "outputs": [
    {
     "data": {
      "text/html": [
       "<div>\n",
       "<style scoped>\n",
       "    .dataframe tbody tr th:only-of-type {\n",
       "        vertical-align: middle;\n",
       "    }\n",
       "\n",
       "    .dataframe tbody tr th {\n",
       "        vertical-align: top;\n",
       "    }\n",
       "\n",
       "    .dataframe thead th {\n",
       "        text-align: right;\n",
       "    }\n",
       "</style>\n",
       "<table border=\"1\" class=\"dataframe\">\n",
       "  <thead>\n",
       "    <tr style=\"text-align: right;\">\n",
       "      <th></th>\n",
       "      <th>adult</th>\n",
       "      <th>belongs_to_collection</th>\n",
       "      <th>budget</th>\n",
       "      <th>genres</th>\n",
       "      <th>homepage</th>\n",
       "      <th>id</th>\n",
       "      <th>imdb_id</th>\n",
       "      <th>original_language</th>\n",
       "      <th>original_title</th>\n",
       "      <th>overview</th>\n",
       "      <th>...</th>\n",
       "      <th>release_date</th>\n",
       "      <th>revenue</th>\n",
       "      <th>runtime</th>\n",
       "      <th>spoken_languages</th>\n",
       "      <th>status</th>\n",
       "      <th>tagline</th>\n",
       "      <th>title</th>\n",
       "      <th>video</th>\n",
       "      <th>vote_average</th>\n",
       "      <th>vote_count</th>\n",
       "    </tr>\n",
       "  </thead>\n",
       "  <tbody>\n",
       "    <tr>\n",
       "      <th>4</th>\n",
       "      <td>False</td>\n",
       "      <td>{'id': 96871, 'name': 'Father of the Bride Col...</td>\n",
       "      <td>0</td>\n",
       "      <td>[{'id': 35, 'name': 'Comedy'}]</td>\n",
       "      <td>NaN</td>\n",
       "      <td>11862</td>\n",
       "      <td>tt0113041</td>\n",
       "      <td>en</td>\n",
       "      <td>Father of the Bride Part II</td>\n",
       "      <td>Just when George Banks has recovered from his ...</td>\n",
       "      <td>...</td>\n",
       "      <td>1995-02-10</td>\n",
       "      <td>76578911</td>\n",
       "      <td>106.0</td>\n",
       "      <td>[{'iso_639_1': 'en', 'name': 'English'}]</td>\n",
       "      <td>Released</td>\n",
       "      <td>Just When His World Is Back To Normal... He's ...</td>\n",
       "      <td>Father of the Bride Part II</td>\n",
       "      <td>False</td>\n",
       "      <td>5.7</td>\n",
       "      <td>173</td>\n",
       "    </tr>\n",
       "  </tbody>\n",
       "</table>\n",
       "<p>1 rows × 24 columns</p>\n",
       "</div>"
      ],
      "text/plain": [
       "   adult                              belongs_to_collection  budget  \\\n",
       "4  False  {'id': 96871, 'name': 'Father of the Bride Col...       0   \n",
       "\n",
       "                           genres homepage     id    imdb_id  \\\n",
       "4  [{'id': 35, 'name': 'Comedy'}]      NaN  11862  tt0113041   \n",
       "\n",
       "  original_language               original_title  \\\n",
       "4                en  Father of the Bride Part II   \n",
       "\n",
       "                                            overview  ...  release_date  \\\n",
       "4  Just when George Banks has recovered from his ...  ...    1995-02-10   \n",
       "\n",
       "    revenue runtime                          spoken_languages    status  \\\n",
       "4  76578911   106.0  [{'iso_639_1': 'en', 'name': 'English'}]  Released   \n",
       "\n",
       "                                             tagline  \\\n",
       "4  Just When His World Is Back To Normal... He's ...   \n",
       "\n",
       "                         title  video vote_average vote_count  \n",
       "4  Father of the Bride Part II  False          5.7        173  \n",
       "\n",
       "[1 rows x 24 columns]"
      ]
     },
     "execution_count": 13,
     "metadata": {},
     "output_type": "execute_result"
    }
   ],
   "source": [
    "#get the details of fifth movie of the DataFrame.\n",
    "master.iloc[4:5,:]"
   ]
  },
  {
   "cell_type": "code",
   "execution_count": 14,
   "id": "afraid-aquatic",
   "metadata": {},
   "outputs": [
    {
     "data": {
      "text/html": [
       "<div>\n",
       "<style scoped>\n",
       "    .dataframe tbody tr th:only-of-type {\n",
       "        vertical-align: middle;\n",
       "    }\n",
       "\n",
       "    .dataframe tbody tr th {\n",
       "        vertical-align: top;\n",
       "    }\n",
       "\n",
       "    .dataframe thead th {\n",
       "        text-align: right;\n",
       "    }\n",
       "</style>\n",
       "<table border=\"1\" class=\"dataframe\">\n",
       "  <thead>\n",
       "    <tr style=\"text-align: right;\">\n",
       "      <th></th>\n",
       "      <th>title</th>\n",
       "      <th>runtime</th>\n",
       "    </tr>\n",
       "  </thead>\n",
       "  <tbody>\n",
       "    <tr>\n",
       "      <th>0</th>\n",
       "      <td>Toy Story</td>\n",
       "      <td>81.0</td>\n",
       "    </tr>\n",
       "    <tr>\n",
       "      <th>1</th>\n",
       "      <td>Jumanji</td>\n",
       "      <td>104.0</td>\n",
       "    </tr>\n",
       "    <tr>\n",
       "      <th>2</th>\n",
       "      <td>Grumpier Old Men</td>\n",
       "      <td>101.0</td>\n",
       "    </tr>\n",
       "    <tr>\n",
       "      <th>3</th>\n",
       "      <td>Waiting to Exhale</td>\n",
       "      <td>127.0</td>\n",
       "    </tr>\n",
       "    <tr>\n",
       "      <th>4</th>\n",
       "      <td>Father of the Bride Part II</td>\n",
       "      <td>106.0</td>\n",
       "    </tr>\n",
       "    <tr>\n",
       "      <th>5</th>\n",
       "      <td>Heat</td>\n",
       "      <td>170.0</td>\n",
       "    </tr>\n",
       "    <tr>\n",
       "      <th>6</th>\n",
       "      <td>Sabrina</td>\n",
       "      <td>127.0</td>\n",
       "    </tr>\n",
       "    <tr>\n",
       "      <th>7</th>\n",
       "      <td>Tom and Huck</td>\n",
       "      <td>97.0</td>\n",
       "    </tr>\n",
       "    <tr>\n",
       "      <th>8</th>\n",
       "      <td>Sudden Death</td>\n",
       "      <td>106.0</td>\n",
       "    </tr>\n",
       "    <tr>\n",
       "      <th>9</th>\n",
       "      <td>GoldenEye</td>\n",
       "      <td>130.0</td>\n",
       "    </tr>\n",
       "    <tr>\n",
       "      <th>10</th>\n",
       "      <td>The American President</td>\n",
       "      <td>106.0</td>\n",
       "    </tr>\n",
       "    <tr>\n",
       "      <th>11</th>\n",
       "      <td>Dracula: Dead and Loving It</td>\n",
       "      <td>88.0</td>\n",
       "    </tr>\n",
       "    <tr>\n",
       "      <th>12</th>\n",
       "      <td>Balto</td>\n",
       "      <td>78.0</td>\n",
       "    </tr>\n",
       "    <tr>\n",
       "      <th>13</th>\n",
       "      <td>Nixon</td>\n",
       "      <td>192.0</td>\n",
       "    </tr>\n",
       "    <tr>\n",
       "      <th>14</th>\n",
       "      <td>Cutthroat Island</td>\n",
       "      <td>119.0</td>\n",
       "    </tr>\n",
       "    <tr>\n",
       "      <th>15</th>\n",
       "      <td>Casino</td>\n",
       "      <td>178.0</td>\n",
       "    </tr>\n",
       "    <tr>\n",
       "      <th>16</th>\n",
       "      <td>Sense and Sensibility</td>\n",
       "      <td>136.0</td>\n",
       "    </tr>\n",
       "    <tr>\n",
       "      <th>17</th>\n",
       "      <td>Four Rooms</td>\n",
       "      <td>98.0</td>\n",
       "    </tr>\n",
       "    <tr>\n",
       "      <th>18</th>\n",
       "      <td>Ace Ventura: When Nature Calls</td>\n",
       "      <td>90.0</td>\n",
       "    </tr>\n",
       "    <tr>\n",
       "      <th>19</th>\n",
       "      <td>Money Train</td>\n",
       "      <td>103.0</td>\n",
       "    </tr>\n",
       "    <tr>\n",
       "      <th>20</th>\n",
       "      <td>Get Shorty</td>\n",
       "      <td>105.0</td>\n",
       "    </tr>\n",
       "    <tr>\n",
       "      <th>21</th>\n",
       "      <td>Copycat</td>\n",
       "      <td>124.0</td>\n",
       "    </tr>\n",
       "    <tr>\n",
       "      <th>22</th>\n",
       "      <td>Assassins</td>\n",
       "      <td>132.0</td>\n",
       "    </tr>\n",
       "    <tr>\n",
       "      <th>23</th>\n",
       "      <td>Powder</td>\n",
       "      <td>111.0</td>\n",
       "    </tr>\n",
       "    <tr>\n",
       "      <th>24</th>\n",
       "      <td>Leaving Las Vegas</td>\n",
       "      <td>112.0</td>\n",
       "    </tr>\n",
       "    <tr>\n",
       "      <th>25</th>\n",
       "      <td>Othello</td>\n",
       "      <td>123.0</td>\n",
       "    </tr>\n",
       "    <tr>\n",
       "      <th>26</th>\n",
       "      <td>Now and Then</td>\n",
       "      <td>100.0</td>\n",
       "    </tr>\n",
       "    <tr>\n",
       "      <th>27</th>\n",
       "      <td>Persuasion</td>\n",
       "      <td>104.0</td>\n",
       "    </tr>\n",
       "    <tr>\n",
       "      <th>28</th>\n",
       "      <td>The City of Lost Children</td>\n",
       "      <td>108.0</td>\n",
       "    </tr>\n",
       "    <tr>\n",
       "      <th>29</th>\n",
       "      <td>Shanghai Triad</td>\n",
       "      <td>108.0</td>\n",
       "    </tr>\n",
       "    <tr>\n",
       "      <th>30</th>\n",
       "      <td>Dangerous Minds</td>\n",
       "      <td>99.0</td>\n",
       "    </tr>\n",
       "    <tr>\n",
       "      <th>31</th>\n",
       "      <td>Twelve Monkeys</td>\n",
       "      <td>129.0</td>\n",
       "    </tr>\n",
       "    <tr>\n",
       "      <th>32</th>\n",
       "      <td>Wings of Courage</td>\n",
       "      <td>50.0</td>\n",
       "    </tr>\n",
       "    <tr>\n",
       "      <th>33</th>\n",
       "      <td>Babe</td>\n",
       "      <td>89.0</td>\n",
       "    </tr>\n",
       "    <tr>\n",
       "      <th>34</th>\n",
       "      <td>Carrington</td>\n",
       "      <td>121.0</td>\n",
       "    </tr>\n",
       "    <tr>\n",
       "      <th>35</th>\n",
       "      <td>Dead Man Walking</td>\n",
       "      <td>122.0</td>\n",
       "    </tr>\n",
       "    <tr>\n",
       "      <th>36</th>\n",
       "      <td>Across the Sea of Time</td>\n",
       "      <td>51.0</td>\n",
       "    </tr>\n",
       "    <tr>\n",
       "      <th>37</th>\n",
       "      <td>It Takes Two</td>\n",
       "      <td>101.0</td>\n",
       "    </tr>\n",
       "    <tr>\n",
       "      <th>38</th>\n",
       "      <td>Clueless</td>\n",
       "      <td>97.0</td>\n",
       "    </tr>\n",
       "    <tr>\n",
       "      <th>39</th>\n",
       "      <td>Cry, the Beloved Country</td>\n",
       "      <td>106.0</td>\n",
       "    </tr>\n",
       "    <tr>\n",
       "      <th>40</th>\n",
       "      <td>Richard III</td>\n",
       "      <td>104.0</td>\n",
       "    </tr>\n",
       "    <tr>\n",
       "      <th>41</th>\n",
       "      <td>Dead Presidents</td>\n",
       "      <td>119.0</td>\n",
       "    </tr>\n",
       "    <tr>\n",
       "      <th>42</th>\n",
       "      <td>Restoration</td>\n",
       "      <td>117.0</td>\n",
       "    </tr>\n",
       "    <tr>\n",
       "      <th>43</th>\n",
       "      <td>Mortal Kombat</td>\n",
       "      <td>101.0</td>\n",
       "    </tr>\n",
       "    <tr>\n",
       "      <th>44</th>\n",
       "      <td>To Die For</td>\n",
       "      <td>106.0</td>\n",
       "    </tr>\n",
       "    <tr>\n",
       "      <th>45</th>\n",
       "      <td>How To Make An American Quilt</td>\n",
       "      <td>116.0</td>\n",
       "    </tr>\n",
       "    <tr>\n",
       "      <th>46</th>\n",
       "      <td>Se7en</td>\n",
       "      <td>127.0</td>\n",
       "    </tr>\n",
       "    <tr>\n",
       "      <th>47</th>\n",
       "      <td>Pocahontas</td>\n",
       "      <td>81.0</td>\n",
       "    </tr>\n",
       "    <tr>\n",
       "      <th>48</th>\n",
       "      <td>When Night Is Falling</td>\n",
       "      <td>96.0</td>\n",
       "    </tr>\n",
       "    <tr>\n",
       "      <th>49</th>\n",
       "      <td>The Usual Suspects</td>\n",
       "      <td>106.0</td>\n",
       "    </tr>\n",
       "  </tbody>\n",
       "</table>\n",
       "</div>"
      ],
      "text/plain": [
       "                             title  runtime\n",
       "0                        Toy Story     81.0\n",
       "1                          Jumanji    104.0\n",
       "2                 Grumpier Old Men    101.0\n",
       "3                Waiting to Exhale    127.0\n",
       "4      Father of the Bride Part II    106.0\n",
       "5                             Heat    170.0\n",
       "6                          Sabrina    127.0\n",
       "7                     Tom and Huck     97.0\n",
       "8                     Sudden Death    106.0\n",
       "9                        GoldenEye    130.0\n",
       "10          The American President    106.0\n",
       "11     Dracula: Dead and Loving It     88.0\n",
       "12                           Balto     78.0\n",
       "13                           Nixon    192.0\n",
       "14                Cutthroat Island    119.0\n",
       "15                          Casino    178.0\n",
       "16           Sense and Sensibility    136.0\n",
       "17                      Four Rooms     98.0\n",
       "18  Ace Ventura: When Nature Calls     90.0\n",
       "19                     Money Train    103.0\n",
       "20                      Get Shorty    105.0\n",
       "21                         Copycat    124.0\n",
       "22                       Assassins    132.0\n",
       "23                          Powder    111.0\n",
       "24               Leaving Las Vegas    112.0\n",
       "25                         Othello    123.0\n",
       "26                    Now and Then    100.0\n",
       "27                      Persuasion    104.0\n",
       "28       The City of Lost Children    108.0\n",
       "29                  Shanghai Triad    108.0\n",
       "30                 Dangerous Minds     99.0\n",
       "31                  Twelve Monkeys    129.0\n",
       "32                Wings of Courage     50.0\n",
       "33                            Babe     89.0\n",
       "34                      Carrington    121.0\n",
       "35                Dead Man Walking    122.0\n",
       "36          Across the Sea of Time     51.0\n",
       "37                    It Takes Two    101.0\n",
       "38                        Clueless     97.0\n",
       "39        Cry, the Beloved Country    106.0\n",
       "40                     Richard III    104.0\n",
       "41                 Dead Presidents    119.0\n",
       "42                     Restoration    117.0\n",
       "43                   Mortal Kombat    101.0\n",
       "44                      To Die For    106.0\n",
       "45   How To Make An American Quilt    116.0\n",
       "46                           Se7en    127.0\n",
       "47                      Pocahontas     81.0\n",
       "48           When Night Is Falling     96.0\n",
       "49              The Usual Suspects    106.0"
      ]
     },
     "execution_count": 14,
     "metadata": {},
     "output_type": "execute_result"
    }
   ],
   "source": [
    "#display the movies (title, runtime) longer than 30 minutes and shorter than 360 minutes.\n",
    "data=master[[\"title\",\"runtime\"]]\n",
    "data[(data[\"runtime\"]>30) & (data[\"runtime\"]<360)]"
   ]
  },
  {
   "cell_type": "markdown",
   "id": "fitted-waters",
   "metadata": {},
   "source": [
    "Matplotlib"
   ]
  },
  {
   "cell_type": "markdown",
   "id": "impossible-response",
   "metadata": {},
   "source": [
    "### **2.Matplot Lib**"
   ]
  },
  {
   "cell_type": "code",
   "execution_count": 43,
   "id": "corrected-parallel",
   "metadata": {},
   "outputs": [
    {
     "data": {
      "text/plain": [
       "[<matplotlib.lines.Line2D at 0x1d94693fe50>]"
      ]
     },
     "execution_count": 43,
     "metadata": {},
     "output_type": "execute_result"
    },
    {
     "data": {
      "image/png": "[encoded data removed]",
      "text/plain": [
       "<Figure size 432x288 with 1 Axes>"
      ]
     },
     "metadata": {
      "needs_background": "light"
     },
     "output_type": "display_data"
    }
   ],
   "source": [
    "# 1.Plot several lines with different format styles in one command using arrays. \n",
    "t=np.arange(0,5,0.2)\n",
    "plt.plot(t,t,'--g')\n",
    "plt.plot(t,t**2,marker=\"s\",color='blue')\n",
    "plt.plot(t,t**3,marker=\"^\",color='red')"
   ]
  },
  {
   "cell_type": "code",
   "execution_count": 35,
   "id": "organized-resort",
   "metadata": {},
   "outputs": [
    {
     "data": {
      "text/plain": [
       "<matplotlib.legend.Legend at 0x1d9468af9d0>"
      ]
     },
     "execution_count": 35,
     "metadata": {},
     "output_type": "execute_result"
    },
    {
     "data": {
      "image/png": "[encoded data removed]",
      "text/plain": [
       "<Figure size 432x288 with 1 Axes>"
      ]
     },
     "metadata": {
      "needs_background": "light"
     },
     "output_type": "display_data"
    }
   ],
   "source": [
    "# 2.Plot line1 and line2 with different styles:\n",
    "x1=np.array([10,20,30])\n",
    "y1=np.array([20,40,10])\n",
    "x2=np.array([10,20,30])\n",
    "y2=np.array([40,10,30])\n",
    "plt.plot(x1,y1, label=\"line1-dotted\",color='blue',linestyle='dotted')\n",
    "plt.plot(x2,y2, label=\"line2-dashed\",color='red',linestyle='dashed')\n",
    "plt.xlabel(\"x\")\n",
    "plt.ylabel(\"y\")\n",
    "plt.legend()"
   ]
  },
  {
   "cell_type": "code",
   "execution_count": 15,
   "id": "hundred-region",
   "metadata": {},
   "outputs": [
    {
     "data": {
      "text/plain": [
       "Text(0, 0.5, 'Y')"
      ]
     },
     "execution_count": 15,
     "metadata": {},
     "output_type": "execute_result"
    },
    {
     "data": {
      "image/png": "[encoded data removed]",
      "text/plain": [
       "<Figure size 432x288 with 1 Axes>"
      ]
     },
     "metadata": {
      "needs_background": "light"
     },
     "output_type": "display_data"
    }
   ],
   "source": [
    "# 3.Draw a scatter plot with empty circles taking a 50-point random distribution in X and Y; set X and Y as x- and y- axes labels. Any color for face and edge.\n",
    "x=np.random.randn(50)\n",
    "y=np.random.randn(50)\n",
    "plt.scatter(x,y,facecolor='green',edgecolors='red')\n",
    "plt.xlabel(\"X\")\n",
    "plt.ylabel(\"Y\")"
   ]
  },
  {
   "cell_type": "code",
   "execution_count": 16,
   "id": "unexpected-convert",
   "metadata": {},
   "outputs": [
    {
     "data": {
      "text/plain": [
       "<AxesSubplot:>"
      ]
     },
     "execution_count": 16,
     "metadata": {},
     "output_type": "execute_result"
    },
    {
     "data": {
      "image/png": "[encoded data removed]",
      "text/plain": [
       "<Figure size 432x288 with 5 Axes>"
      ]
     },
     "metadata": {
      "needs_background": "light"
     },
     "output_type": "display_data"
    },
    {
     "data": {
      "image/png": "[encoded data removed]",
      "text/plain": [
       "<Figure size 432x288 with 1 Axes>"
      ]
     },
     "metadata": {
      "needs_background": "light"
     },
     "output_type": "display_data"
    }
   ],
   "source": [
    "# 4.Create bar plot from a DataFrame. \n",
    "data=pd.DataFrame([[4,2,4,2,2],[8,3,7,6,4],[5,4,4,4,3],[7,2,7,8,3],[6,6,8,6,2]],index=[2,4,6,8,10],columns=['a','b','c','d','e'])\n",
    "data.plot.bar(subplots=True)\n",
    "data.plot.bar()"
   ]
  },
  {
   "cell_type": "code",
   "execution_count": 17,
   "id": "hungry-birth",
   "metadata": {},
   "outputs": [
    {
     "data": {
      "text/plain": [
       "Text(0.5, 1.0, 'Average Monthly Precipitation')"
      ]
     },
     "execution_count": 17,
     "metadata": {},
     "output_type": "execute_result"
    },
    {
     "data": {
      "image/png": "[encoded data removed]",
      "text/plain": [
       "<Figure size 576x576 with 1 Axes>"
      ]
     },
     "metadata": {
      "needs_background": "light"
     },
     "output_type": "display_data"
    }
   ],
   "source": [
    "# 5.The following dataset for average monthly precipitation. You will create and customize a plot\n",
    "data={\"Month\":[\"Jan\",\"Feb\",\"Mar\",\"Apr\",\"May\",\"Jun\",\"Jul\",\"Aug\",\"Sep\",\"Oct\",\"Nov\",\"Dec\"],\"Precipitation (inches)\":[0.7,0.75,1.85,2.93,3.05,2.02,1.93,1.62,1.84,1.31,1.39,0.84]}\n",
    "master=pd.DataFrame(data)\n",
    "plt.figure(figsize=[8,8])\n",
    "plt.plot(master[\"Month\"],master[\"Precipitation (inches)\"])\n",
    "plt.xlabel(\"Month\")\n",
    "plt.ylabel(\"Precipitation (inches)\")\n",
    "plt.title(\"Average Monthly Precipitation\")"
   ]
  },
  {
   "cell_type": "code",
   "execution_count": 18,
   "id": "boxed-tobago",
   "metadata": {},
   "outputs": [
    {
     "data": {
      "image/png": "[encoded data removed]",
      "text/plain": [
       "<Figure size 576x576 with 1 Axes>"
      ]
     },
     "metadata": {
      "needs_background": "light"
     },
     "output_type": "display_data"
    }
   ],
   "source": [
    "plt.figure(figsize=[8,8])\n",
    "plt.bar(master[\"Month\"],master[\"Precipitation (inches)\"],color='green')\n",
    "plt.xlabel(\"Month\")\n",
    "plt.ylabel(\"Precipitation (inches)\")\n",
    "plt.title(\"Average Monthly Precipitation\")\n",
    "plt.show()"
   ]
  }
 ],
 "metadata": {
  "kernelspec": {
   "display_name": "Python 3",
   "language": "python",
   "name": "python3"
  },
  "language_info": {
   "codemirror_mode": {
    "name": "ipython",
    "version": 3
   },
   "file_extension": ".py",
   "mimetype": "text/x-python",
   "name": "python",
   "nbconvert_exporter": "python",
   "pygments_lexer": "ipython3",
   "version": "3.9.2"
  }
 },
 "nbformat": 4,
 "nbformat_minor": 5
}
